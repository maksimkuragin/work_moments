{
 "cells": [
  {
   "cell_type": "markdown",
   "id": "fe185ac6",
   "metadata": {},
   "source": [
    "<H3>Дано две таблицы:</H3>\n",
    "<br>1) CRM - таблица с показателями.\n",
    "<br>2) База - датасет для обучения с тайтлами и датой окончания сбора КПИ.\n",
    "<H3>Задача:</H3>\n",
    "<br>Из таблицы CRM необходимо вытащить показатели \"открыто\" и \"переходы\" отдельно по типу \"email\" и \"push\" и по условию даты, дата у показателей должна быть не больше даты окончания сбора КПИ."
   ]
  },
  {
   "cell_type": "code",
   "execution_count": 1,
   "id": "be49f8ad",
   "metadata": {},
   "outputs": [],
   "source": [
    "import pandas as pd"
   ]
  },
  {
   "cell_type": "code",
   "execution_count": 1,
   "id": "400db4e5",
   "metadata": {},
   "outputs": [],
   "source": [
    "crm = pd.read_excel('CRM.xlsx')\n",
    "baza = pd.read_excel('База.xlsx')"
   ]
  },
  {
   "cell_type": "code",
   "execution_count": 11,
   "id": "698648ae",
   "metadata": {},
   "outputs": [],
   "source": [
    "email_res_open = []\n",
    "email_res_transitions = []\n",
    "email_sum_res_open = []\n",
    "email_sum_res_transitions = []\n",
    "\n",
    "push_res_open = []\n",
    "push_res_transitions = []\n",
    "push_sum_res_open = []\n",
    "push_sum_res_transitions = []\n",
    "\n",
    "\n",
    "for title, date in zip(baza['Тайтл'], baza['Дата']):\n",
    "    for title2, date2, typee, opeen, transitions in zip(crm['тайтл'],\n",
    "                                                        crm['дата'],\n",
    "                                                        crm['тип'],\n",
    "                                                        crm['открыто'],\n",
    "                                                        crm['переходы']):\n",
    "        if title == title2 and date >= date2 and typee == 'email рассылка':\n",
    "            email_res_open.append(opeen)\n",
    "            email_res_transitions.append(transitions)\n",
    "        if title == title2 and date >= date2 and typee == 'push':\n",
    "            push_res_open.append(opeen)\n",
    "            push_res_transitions.append(transitions)\n",
    "    \n",
    "    email_sum_res_open.append(sum(email_res_open))\n",
    "    email_sum_res_transitions.append(sum(email_res_transitions))\n",
    "    email_res_open = []\n",
    "    email_res_transitions = []\n",
    "    \n",
    "    push_sum_res_open.append(sum(push_res_open))\n",
    "    push_sum_res_transitions.append(sum(push_res_transitions))\n",
    "    push_res_open = []\n",
    "    push_res_transitions = []"
   ]
  },
  {
   "cell_type": "code",
   "execution_count": 12,
   "id": "4a43cac6",
   "metadata": {},
   "outputs": [
    {
     "name": "stdout",
     "output_type": "stream",
     "text": [
      "140\n",
      "140\n",
      "140\n",
      "140\n"
     ]
    }
   ],
   "source": [
    "print(len(email_sum_res_open))\n",
    "print(len(email_sum_res_transitions))\n",
    "print(len(push_sum_res_open))\n",
    "print(len(push_sum_res_transitions))"
   ]
  },
  {
   "cell_type": "code",
   "execution_count": 2,
   "id": "bbf2a161",
   "metadata": {},
   "outputs": [],
   "source": [
    "baza['email открыто'] = email_sum_res_open\n",
    "baza['email переходы'] = email_sum_res_transitions\n",
    "baza['push открыто'] = push_sum_res_open\n",
    "baza['push переходы'] = push_sum_res_transitions"
   ]
  },
  {
   "cell_type": "code",
   "execution_count": 15,
   "id": "37bfb3e9",
   "metadata": {},
   "outputs": [],
   "source": [
    "baza.to_excel('res.xlsx')"
   ]
  }
 ],
 "metadata": {
  "kernelspec": {
   "display_name": "Python 3 (ipykernel)",
   "language": "python",
   "name": "python3"
  },
  "language_info": {
   "codemirror_mode": {
    "name": "ipython",
    "version": 3
   },
   "file_extension": ".py",
   "mimetype": "text/x-python",
   "name": "python",
   "nbconvert_exporter": "python",
   "pygments_lexer": "ipython3",
   "version": "3.8.8"
  }
 },
 "nbformat": 4,
 "nbformat_minor": 5
}
