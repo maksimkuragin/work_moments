{
 "cells": [
  {
   "cell_type": "markdown",
   "id": "f2b1a3f1",
   "metadata": {},
   "source": [
    "<H3>Задача:</H3>\n",
    "<br>1) Необходимо все навзвания препаратов прировнять к единому виду, для более удобной работы.\n",
    "<br>2) Далее, необходимо собрать ряд информации, сгрупировав сначала по дате начала акции, далее по типу акции, далее по типу препарата и так по каждой дате с каждой акцией и по каждому препарату.\n",
    "<H3>Информацию которую необходимо собрать:</H3>\n",
    "<br>1) Дата акции\n",
    "<br>2) Тип акции\n",
    "<br>3) Название препарата\n",
    "<br>4) Количество аптек учавствующих в акции\n",
    "<br>5) Среднее значение по Sell-out.2\n",
    "<br>6) Средний рост в %"
   ]
  },
  {
   "cell_type": "code",
   "execution_count": 217,
   "id": "adaea2fd",
   "metadata": {},
   "outputs": [],
   "source": [
    "import pandas as pd\n",
    "import numpy as np\n",
    "\n",
    "from statistics import mean "
   ]
  },
  {
   "cell_type": "code",
   "execution_count": 1,
   "id": "e368ee2d",
   "metadata": {},
   "outputs": [],
   "source": [
    "df = pd.read_excel('2021.xlsx')"
   ]
  },
  {
   "cell_type": "code",
   "execution_count": 457,
   "id": "91510f6b",
   "metadata": {},
   "outputs": [],
   "source": [
    "dct = {\n",
    "    'ПАРАЦЕТАМОЛ БЛИС 250МГ №30' : ['ПАРАЦЕТАМОЛ БЛИС 250МГ №30',\n",
    "                                    'Парацетамол 250 мг №30 блистеры',\n",
    "                                    'Парацетамол капс 250 мг блистеры №30',\n",
    "                                    'Парацетамол капсулы 250 мг, 30 шт. (блистер) ',\n",
    "                                    'Парацетамол  250мг блист №30'],\n",
    "    'ПАРАЦЕТАМОЛ КАПС 250МГ №10' : ['ПАРАЦЕТАМОЛ КАПС 250МГ №10',\n",
    "                                    'Парацетамол  250 мг фл. №10',\n",
    "                                    'ПАРАЦЕТАМОЛ капс 250 мг (флаконы) №10 ',\n",
    "                                    'Парацетамол капс 250 мг фл. №10'],\n",
    "    'ПАРАЦЕТАМОЛ КАПС 250МГ №30' : ['ПАРАЦЕТАМОЛ КАПС 250МГ №30',\n",
    "                                    'Парацетамол 250 мг №30 флаконы',\n",
    "                                    'Парацетамол капс 250 мг фл. №30',\n",
    "                                    'ПАРАЦЕТАМОЛ капс 250 мг (флаконы) №30 ',\n",
    "                                    'Парацетамол капсулы 250 мг 30 шт. ',\n",
    "                                    'Парацетамол  250мг капс №30',\n",
    "                                    'Парацетамол 250 мг капс № 30'],\n",
    "    'ПАРАЦЕТАМОЛ КАПС 250МГ №50' : ['ПАРАЦЕТАМОЛ КАПС 250МГ №50',\n",
    "                                    'Парацетамол капс 250 мг фл. №50',\n",
    "                                    'ПАРАЦЕТАМОЛ капс 250 мг (флаконы) №50 ',\n",
    "                                    'Парацетамол 250 мг №50 флаконы',\n",
    "                                    'Парацетамол капсулы 250 мг, 50 шт. ',\n",
    "                                    'Парацетамол  250мг капс №50',\n",
    "                                    'Парацетамол 250 мг капс № 50'],\n",
    "    'ПАРАЦЕТАМОЛ ПОР 100МГ №10' : ['ПАРАЦЕТАМОЛ Саше 100мг, №10 ',\n",
    "                                   'ПАРАЦЕТАМОЛ ПОР 100МГ №10'],\n",
    "    'ПАРАЦЕТАМОЛ ПОР 100МГ №20' : ['ПАРАЦЕТАМОЛ ПОР 100МГ №20',\n",
    "                                   'Парацетамол саше 100 мг №20'],\n",
    "    'ПАРАЦЕТАМОЛ ПОР 250МГ №10' : ['ПАРАЦЕТАМОЛ ПОР 250МГ №10',\n",
    "                                   'Парацетамол саше 250 мг №10',\n",
    "                                   'ПАРАЦЕТАМОЛ Саше 250мг, №10 ',\n",
    "                                   'Парацетамол 250 мг  Саше №10 '],\n",
    "    'ПАРАЦЕТАМОЛ ПОР 250МГ №20' : ['ПАРАЦЕТАМОЛ ПОР 250МГ №20',\n",
    "                                   'Парацетамол саше 250 мг №20',\n",
    "                                   'ПАРАЦЕТАМОЛ Саше 250мг, №20',\n",
    "                                   'ПАРАЦЕТАМОЛ Саше 250мг, №20 ',\n",
    "                                   'Парацетамол порошок 250 мг пакетики 20 шт. ']}"
   ]
  },
  {
   "cell_type": "code",
   "execution_count": 2,
   "id": "3365a937",
   "metadata": {},
   "outputs": [],
   "source": [
    "df['SKU'] = [[str(key) for key, val in dct.items() if row in val] for row in df['SKU']]\n",
    "df['SKU'] = [str(i)[2:-2] for i in df['SKU']]"
   ]
  },
  {
   "cell_type": "code",
   "execution_count": 459,
   "id": "91056d59",
   "metadata": {},
   "outputs": [],
   "source": [
    "data = []\n",
    "stock = []\n",
    "sku = []\n",
    "apteka = []\n",
    "avg_sell_out = []\n",
    "avg = []\n",
    "\n",
    "for i in df['дата начала'].unique():\n",
    "    df_data = df[df['дата начала'] == i]\n",
    "    for j in df_data['Промо акция'].unique():\n",
    "        df_stock = df_data[df_data['Промо акция'] == j]\n",
    "        for y in df_stock['SKU'].unique():\n",
    "            df_sku = df_stock[df_stock['SKU'] == y]\n",
    "            #data.append(df_sku['дата начала'].values[0])\n",
    "            #stock.append(df_sku['Промо акция'].values[0])\n",
    "            #sku.append(df_sku['SKU'].values[0])\n",
    "            data.append([str(i)[0:10] for i in df_sku['дата начала']])\n",
    "            sku.append([str(i) for i in df_sku['SKU']])\n",
    "            stock.append([str(i) for i in df_sku['Промо акция']])\n",
    "            apteka.append(sum([int(i) for i in df_sku['Кол-во аптек']]))\n",
    "            avg_sell_out.append(round(mean([int(i) for i in df_sku['Sell-out.2']])))\n",
    "            numpy_arr_1 = np.array([int(i) for i in df_sku['Sell-out.2']])\n",
    "            numpy_arr_2 = np.array([int(i) for i in df_sku['Кол-во аптек']])\n",
    "            res = mean(numpy_arr_1 / numpy_arr_2 * 0.01)\n",
    "            avg.append(round(res, 5))"
   ]
  },
  {
   "cell_type": "code",
   "execution_count": 460,
   "id": "a1bed9e5",
   "metadata": {},
   "outputs": [],
   "source": [
    "array = np.array([data, stock, sku, apteka, avg_sell_out, avg]);\n",
    "columns = ['Дата', 'Тип акции', 'SKU', 'Кол-во аптек', 'Средний рост в %', 'Среднее значение']\n",
    "\n",
    "df_final = pd.DataFrame(array, columns).T"
   ]
  },
  {
   "cell_type": "code",
   "execution_count": 357,
   "id": "84ee0c40",
   "metadata": {},
   "outputs": [],
   "source": [
    "df_final.to_excel('trade_2021_done.xlsx')"
   ]
  }
 ],
 "metadata": {
  "kernelspec": {
   "display_name": "Python 3 (ipykernel)",
   "language": "python",
   "name": "python3"
  },
  "language_info": {
   "codemirror_mode": {
    "name": "ipython",
    "version": 3
   },
   "file_extension": ".py",
   "mimetype": "text/x-python",
   "name": "python",
   "nbconvert_exporter": "python",
   "pygments_lexer": "ipython3",
   "version": "3.8.8"
  }
 },
 "nbformat": 4,
 "nbformat_minor": 5
}
