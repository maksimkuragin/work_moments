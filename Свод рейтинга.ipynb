{
 "cells": [
  {
   "cell_type": "markdown",
   "id": "bc6ccfe8",
   "metadata": {},
   "source": [
    "<H3>Дано две таблицы:</H3>\n",
    "<br>1) \"Для кода\" - сводная таблица после выгрузки от клиента. В таблице: даты по строкам, тайтлы по столбцам и рейтинги с тв в значениях.\n",
    "<br>2) \"Абонентская база\" - датасет для обучения. Из которого нам необходимы тайтлы, их старт и конец расчета сбора КПИ.\n",
    "<H3>Задача:</H3>\n",
    "<br>Из таблицы \"Для кода\" необходимо вытащить рейтинг по нескольким условиям:\n",
    "<br>1) Рейтинг до выхода тайтла. \n",
    "<br>2) Рейтинг во время сбора КПИ."
   ]
  },
  {
   "cell_type": "code",
   "execution_count": 108,
   "id": "992db726",
   "metadata": {},
   "outputs": [],
   "source": [
    "import pandas as pd\n",
    "import numpy as np\n",
    "import time\n",
    "from tqdm import tqdm"
   ]
  },
  {
   "cell_type": "code",
   "execution_count": 1,
   "id": "39dbb69b",
   "metadata": {},
   "outputs": [],
   "source": [
    "df = pd.read_excel('Для кода.xlsx')\n",
    "df = df.fillna(0)\n",
    "df2 = pd.read_excel('Абоненская база.xlsx')"
   ]
  },
  {
   "cell_type": "code",
   "execution_count": 2,
   "id": "c4c26595",
   "metadata": {},
   "outputs": [],
   "source": [
    "title_name = []\n",
    "arr_rating = []\n",
    "arr_rating_2 = []\n",
    "sum_arr_rating = []\n",
    "sum_arr_rating_2 = []\n",
    "\n",
    "for col in tqdm(df.columns):\n",
    "    time.sleep(1)\n",
    "    for title, start, finish in zip(df2['Тайтл'], df2['Старт расчета'], df2['Конец расчета']):\n",
    "        if col == title:\n",
    "            title_name.append(col)\n",
    "            for date, rating in zip(df['дата'], df[col]):\n",
    "                if date < start:\n",
    "                    arr_rating.append(rating)\n",
    "                if start <= date <= finish:\n",
    "                    arr_rating_2.append(rating)\n",
    "            sum_arr_rating.append(round(sum(arr_rating), 2))\n",
    "            arr_rating = []\n",
    "            sum_arr_rating_2.append(round(sum(arr_rating_2), 2))\n",
    "            arr_rating_2 = []"
   ]
  },
  {
   "cell_type": "code",
   "execution_count": 131,
   "id": "9238caa3",
   "metadata": {},
   "outputs": [],
   "source": [
    "array = np.array([title_name, sum_arr_rating, sum_arr_rating_2]);\n",
    "columns = ['Тайтл', 'Before', 'During']\n",
    "\n",
    "df_final = pd.DataFrame(array, columns).T"
   ]
  },
  {
   "cell_type": "code",
   "execution_count": 133,
   "id": "88386538",
   "metadata": {},
   "outputs": [],
   "source": [
    "df_final.to_excel('рейтинги с тв.xlsx')"
   ]
  }
 ],
 "metadata": {
  "kernelspec": {
   "display_name": "Python 3 (ipykernel)",
   "language": "python",
   "name": "python3"
  },
  "language_info": {
   "codemirror_mode": {
    "name": "ipython",
    "version": 3
   },
   "file_extension": ".py",
   "mimetype": "text/x-python",
   "name": "python",
   "nbconvert_exporter": "python",
   "pygments_lexer": "ipython3",
   "version": "3.8.8"
  }
 },
 "nbformat": 4,
 "nbformat_minor": 5
}
